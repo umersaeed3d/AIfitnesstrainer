{
 "cells": [
  {
   "cell_type": "code",
   "execution_count": 53,
   "metadata": {},
   "outputs": [],
   "source": [
    "import pandas as pd\n",
    "import pickle as pk\n",
    "from sklearn.model_selection import train_test_split\n",
    "from sklearn.preprocessing import LabelEncoder\n",
    "Tmodel = pk.load(open('test.sav', 'rb'))\n",
    "with open('test_dict.pickle', 'rb') as handle:\n",
    "    Tdict = pk.load(handle)\n",
    "\n",
    "\n",
    "sr_workout=pd.read_csv('sets and reps.csv')"
   ]
  },
  {
   "cell_type": "code",
   "execution_count": 57,
   "metadata": {},
   "outputs": [
    {
     "name": "stdout",
     "output_type": "stream",
     "text": [
      "{3.12: 0, 3.15: 1, 4.12: 2, 4.6: 3, 4.8: 4, 5.6: 5}\n",
      "0.9083333333333333\n"
     ]
    }
   ],
   "source": [
    "def test():\n",
    "    data = sr_workout[['age','weight','height','goal']]\n",
    "    labl=LabelEncoder()\n",
    "    target = labl.fit_transform(sr_workout['straight bench press'])\n",
    "    #from sklearn.utils.multiclass import unique_labels\n",
    "    #print(unique_labels(target))\n",
    "    #print(labl.classes_)\n",
    "    mapping = dict(zip(labl.classes_, range(len(labl.classes_))))\n",
    "    with open('test_dict.pickle', 'wb') as handle:\n",
    "        pk.dump(mapping, handle, protocol=pk.HIGHEST_PROTOCOL)\n",
    "    print(mapping)\n",
    "    data_train, data_test, target_train, target_test = train_test_split(data, target, test_size = 0.30,random_state=0)\n",
    "    from sklearn.svm import SVC\n",
    "    from sklearn.metrics import accuracy_score\n",
    "    model = SVC(gamma='auto')\n",
    "    pred = model.fit(data_train, target_train)\n",
    "    print(pred.score(data_test,target_test))\n",
    "    filename = 'test.sav'\n",
    "    pk.dump(model, open(filename, 'wb'))\n",
    "    #print(\"Naive-Bayes accuracy : \",accuracy_score(target_test, pred))\n",
    "#     print(\"Naive-Bayes accuracy : \",accuracy_score(target_test, pred, normalize = True))\n",
    "    return labl.inverse_transform(pred.predict(data_test)),(target_test)\n",
    "\n",
    "test()"
   ]
  },
  {
   "cell_type": "code",
   "execution_count": 58,
   "metadata": {},
   "outputs": [
    {
     "name": "stdout",
     "output_type": "stream",
     "text": [
      "5\n"
     ]
    }
   ],
   "source": [
    "import numpy as np\n",
    "a = np.array([27,81,4.11,0])\n",
    "res = Tmodel.predict([a])\n",
    "res = int(res)\n",
    "print(res)"
   ]
  },
  {
   "cell_type": "code",
   "execution_count": 59,
   "metadata": {},
   "outputs": [
    {
     "name": "stdout",
     "output_type": "stream",
     "text": [
      "{3.12: 0, 3.15: 1, 4.12: 2, 4.6: 3, 4.8: 4, 5.6: 5}\n",
      "[3.12, 3.15, 4.12, 4.6, 4.8, 5.6]\n",
      "5.6\n"
     ]
    }
   ],
   "source": [
    "print(Tdict)\n",
    "key_list = list(Tdict.keys())\n",
    "val_list = list(Tdict.values())\n",
    "print(key_list)\n",
    "print(key_list[val_list.index(res)]) \n"
   ]
  }
 ],
 "metadata": {
  "kernelspec": {
   "display_name": "Python 3",
   "language": "python",
   "name": "python3"
  },
  "language_info": {
   "codemirror_mode": {
    "name": "ipython",
    "version": 3
   },
   "file_extension": ".py",
   "mimetype": "text/x-python",
   "name": "python",
   "nbconvert_exporter": "python",
   "pygments_lexer": "ipython3",
   "version": "3.7.4"
  }
 },
 "nbformat": 4,
 "nbformat_minor": 2
}
