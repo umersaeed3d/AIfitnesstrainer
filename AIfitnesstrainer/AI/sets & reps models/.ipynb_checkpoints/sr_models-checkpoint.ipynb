{
 "cells": [
  {
   "cell_type": "code",
   "execution_count": 77,
   "metadata": {},
   "outputs": [],
   "source": [
    "import pandas as pd\n",
    "import pickle as pk\n",
    "from sklearn.model_selection import train_test_split\n",
    "from sklearn.preprocessing import LabelEncoder\n",
    "\n",
    "# load the model from disk\n",
    "Smodel_1 = pk.load(open('model_1.sav', 'rb'))\n",
    "Smodel_2 = pk.load(open('model_2.sav', 'rb'))\n",
    "Smodel_3 = pk.load(open('model_3.sav', 'rb'))\n",
    "Smodel_4 = pk.load(open('model_4.sav', 'rb'))\n",
    "Smodel_5 = pk.load(open('model_5.sav', 'rb'))\n",
    "Smodel_6 = pk.load(open('model_6.sav', 'rb'))\n",
    "Smodel_7 = pk.load(open('model_7.sav', 'rb'))\n",
    "Smodel_8 = pk.load(open('model_8.sav', 'rb'))\n",
    "Smodel_9 = pk.load(open('model_9.sav', 'rb'))\n",
    "Smodel_10 = pk.load(open('model_10.sav', 'rb'))\n",
    "Smodel_11 = pk.load(open('model_11.sav', 'rb'))\n",
    "Smodel_12 = pk.load(open('model_12.sav', 'rb'))\n",
    "Smodel_13 = pk.load(open('model_13.sav', 'rb'))\n",
    "Smodel_14 = pk.load(open('model_14.sav', 'rb'))\n",
    "Smodel_15 = pk.load(open('model_15.sav', 'rb'))\n",
    "Smodel_16 = pk.load(open('model_16.sav', 'rb'))\n",
    "Smodel_17 = pk.load(open('model_17.sav', 'rb'))\n",
    "Smodel_18 = pk.load(open('model_18.sav', 'rb'))\n",
    "Smodel_19 = pk.load(open('model_19.sav', 'rb'))\n",
    "Smodel_20 = pk.load(open('model_20.sav', 'rb'))\n",
    "Smodel_21 = pk.load(open('model_21.sav', 'rb'))\n",
    "Smodel_22 = pk.load(open('model_22.sav', 'rb'))\n",
    "Smodel_23 = pk.load(open('model_23.sav', 'rb'))\n",
    "Smodel_24 = pk.load(open('model_24.sav', 'rb'))\n",
    "\n",
    "#load model dict from disk\n",
    "with open('model_1.pickle', 'rb') as handle:\n",
    "    Tdict_ = pk.load(handle)\n",
    "with open('model_2.pickle', 'rb') as handle:\n",
    "    Tdict_ = pk.load(handle)\n",
    "with open('model_3.pickle', 'rb') as handle:\n",
    "    Tdict_ = pk.load(handle)\n",
    "with open('model_4.pickle', 'rb') as handle:\n",
    "    Tdict_1 = pk.load(handle)\n",
    "with open('model_5.pickle', 'rb') as handle:\n",
    "    Tdict_2 = pk.load(handle)\n",
    "with open('model_6.pickle', 'rb') as handle:\n",
    "    Tdict_3 = pk.load(handle)\n",
    "with open('model_7.pickle', 'rb') as handle:\n",
    "    Tdict_4 = pk.load(handle)\n",
    "with open('model_8.pickle', 'rb') as handle:\n",
    "    Tdict_5 = pk.load(handle)\n",
    "with open('model_9.pickle', 'rb') as handle:\n",
    "    Tdict_6 = pk.load(handle)\n",
    "with open('model_10.pickle', 'rb') as handle:\n",
    "    Tdict_7 = pk.load(handle)\n",
    "with open('model_11.pickle', 'rb') as handle:\n",
    "    Tdict_8 = pk.load(handle)\n",
    "with open('model_12.pickle', 'rb') as handle:\n",
    "    Tdict_9 = pk.load(handle)\n",
    "with open('model_13.pickle', 'rb') as handle:\n",
    "    Tdict_10 = pk.load(handle)\n",
    "with open('model_14.pickle', 'rb') as handle:\n",
    "    Tdict_11 = pk.load(handle)\n",
    "with open('model_15.pickle', 'rb') as handle:\n",
    "    Tdict_12 = pk.load(handle)\n",
    "with open('model_16.pickle', 'rb') as handle:\n",
    "    Tdict_13 = pk.load(handle)\n",
    "with open('model_17.pickle', 'rb') as handle:\n",
    "    Tdict_14 = pk.load(handle)\n",
    "with open('model_18.pickle', 'rb') as handle:\n",
    "    Tdict_15 = pk.load(handle)\n",
    "with open('model_19.pickle', 'rb') as handle:\n",
    "    Tdict_16 = pk.load(handle)\n",
    "with open('model_20.pickle', 'rb') as handle:\n",
    "    Tdict_17 = pk.load(handle)\n",
    "with open('model_21.pickle', 'rb') as handle:\n",
    "    Tdict_18 = pk.load(handle)\n",
    "with open('model_22.pickle', 'rb') as handle:\n",
    "    Tdict_19 = pk.load(handle)\n",
    "with open('model_23.pickle', 'rb') as handle:\n",
    "    Tdict_20 = pk.load(handle)\n",
    "with open('model_24.pickle', 'rb') as handle:\n",
    "    Tdict_21 = pk.load(handle)\n",
    "\n",
    "sr_workout=pd.read_csv('sets and reps.csv')"
   ]
  },
  {
   "cell_type": "code",
   "execution_count": 19,
   "metadata": {},
   "outputs": [],
   "source": [
    "def sr_model_1():\n",
    "    data = sr_workout[['age','weight','height','goal']]\n",
    "    labl=LabelEncoder()\n",
    "    target = labl.fit_transform(sr_workout['straight bench press'])\n",
    "    #print(labl.classes_)\n",
    "    mapping = dict(zip(labl.classes_, range(len(labl.classes_))))\n",
    "    with open('model_1.pickle', 'wb') as handle:\n",
    "        pk.dump(mapping, handle, protocol=pk.HIGHEST_PROTOCOL)\n",
    "    print(mapping)\n",
    "    data_train, data_test, target_train, target_test = train_test_split(data, target, test_size = 0.30,random_state=0)\n",
    "    from sklearn.svm import SVC\n",
    "    from sklearn.metrics import accuracy_score\n",
    "    model = SVC(gamma='auto')\n",
    "    pred = model.fit(data_train, target_train)\n",
    "    print(pred.score(data_test,target_test))\n",
    "    filename = 'model_1.sav'\n",
    "    pk.dump(model, open(filename, 'wb'))\n",
    "    #return labl.inverse_transform(pred.predict(data_test)),labl.inverse_transform(target_test)"
   ]
  },
  {
   "cell_type": "code",
   "execution_count": 20,
   "metadata": {
    "scrolled": false
   },
   "outputs": [
    {
     "name": "stdout",
     "output_type": "stream",
     "text": [
      "{3.12: 0, 3.15: 1, 4.12: 2, 4.6: 3, 4.8: 4, 5.6: 5}\n",
      "0.9083333333333333\n"
     ]
    }
   ],
   "source": [
    "sr_model_1()"
   ]
  },
  {
   "cell_type": "code",
   "execution_count": 31,
   "metadata": {},
   "outputs": [],
   "source": [
    "def sr_model_2():\n",
    "    data = sr_workout[['age','weight','height','goal']]\n",
    "    labl=LabelEncoder()\n",
    "    target = labl.fit_transform(sr_workout['decline bench press'])\n",
    "    #print(labl.classes_)\n",
    "    mapping = dict(zip(labl.classes_, range(len(labl.classes_))))\n",
    "    with open('model_2.pickle', 'wb') as handle:\n",
    "        pk.dump(mapping, handle, protocol=pk.HIGHEST_PROTOCOL)\n",
    "    print(mapping)\n",
    "    data_train, data_test, target_train, target_test = train_test_split(data, target, test_size = 0.30,random_state=0)\n",
    "    from sklearn.svm import SVC\n",
    "    from sklearn.metrics import accuracy_score\n",
    "    model = SVC(gamma='auto')\n",
    "    pred = model.fit(data_train, target_train)\n",
    "    print(pred.score(data_test,target_test))\n",
    "    filename = 'model_2.sav'\n",
    "    pk.dump(model, open(filename, 'wb'))\n",
    "    #return labl.inverse_transform(pred.predict(data_test)),labl.inverse_transform(target_test)"
   ]
  },
  {
   "cell_type": "code",
   "execution_count": 32,
   "metadata": {},
   "outputs": [
    {
     "name": "stdout",
     "output_type": "stream",
     "text": [
      "{3.12: 0, 3.15: 1, 4.12: 2, 4.6: 3, 4.8: 4, 5.6: 5}\n",
      "0.9375\n"
     ]
    }
   ],
   "source": [
    "sr_model_2()"
   ]
  },
  {
   "cell_type": "code",
   "execution_count": 22,
   "metadata": {},
   "outputs": [],
   "source": [
    "def sr_model_3():\n",
    "    data = sr_workout[['age','weight','height','goal']]\n",
    "    labl=LabelEncoder()\n",
    "    target = labl.fit_transform(sr_workout['dumbell flyes'])\n",
    "    #print(labl.classes_)\n",
    "    mapping = dict(zip(labl.classes_, range(len(labl.classes_))))\n",
    "    with open('model_3.pickle', 'wb') as handle:\n",
    "        pk.dump(mapping, handle, protocol=pk.HIGHEST_PROTOCOL)\n",
    "    print(mapping)\n",
    "    data_train, data_test, target_train, target_test = train_test_split(data, target, test_size = 0.30,random_state=0)\n",
    "    from sklearn.svm import SVC\n",
    "    from sklearn.metrics import accuracy_score\n",
    "    model = SVC(gamma='auto')\n",
    "    pred = model.fit(data_train, target_train)\n",
    "    print(pred.score(data_test,target_test))\n",
    "    filename = 'model_3.sav'\n",
    "    pk.dump(model, open(filename, 'wb'))\n",
    "    #return labl.inverse_transform(pred.predict(data_test)),labl.inverse_transform(target_test)"
   ]
  },
  {
   "cell_type": "code",
   "execution_count": 23,
   "metadata": {},
   "outputs": [
    {
     "name": "stdout",
     "output_type": "stream",
     "text": [
      "{3.12: 0, 3.15: 1, 4.12: 2, 4.6: 3, 4.8: 4, 5.6: 5}\n",
      "0.9270833333333334\n"
     ]
    }
   ],
   "source": [
    "sr_model_3()"
   ]
  },
  {
   "cell_type": "code",
   "execution_count": 24,
   "metadata": {},
   "outputs": [],
   "source": [
    "def sr_model_4():\n",
    "    data = sr_workout[['age','weight','height','goal']]\n",
    "    labl=LabelEncoder()\n",
    "    target = labl.fit_transform(sr_workout['front barbell press'])\n",
    "    #print(labl.classes_)\n",
    "    mapping = dict(zip(labl.classes_, range(len(labl.classes_))))\n",
    "    with open('model_4.pickle', 'wb') as handle:\n",
    "        pk.dump(mapping, handle, protocol=pk.HIGHEST_PROTOCOL)\n",
    "    print(mapping)\n",
    "    data_train, data_test, target_train, target_test = train_test_split(data, target, test_size = 0.30,random_state=0)\n",
    "    from sklearn.svm import SVC\n",
    "    from sklearn.metrics import accuracy_score\n",
    "    model = SVC(gamma='auto')\n",
    "    pred = model.fit(data_train, target_train)\n",
    "    print(pred.score(data_test,target_test))\n",
    "    filename = 'model_4.sav'\n",
    "    pk.dump(model, open(filename, 'wb'))\n",
    "    #return labl.inverse_transform(pred.predict(data_test)),labl.inverse_transform(target_test)"
   ]
  },
  {
   "cell_type": "code",
   "execution_count": 25,
   "metadata": {},
   "outputs": [
    {
     "name": "stdout",
     "output_type": "stream",
     "text": [
      "{3.12: 0, 3.15: 1, 4.12: 2, 4.6: 3, 4.8: 4, 5.6: 5}\n",
      "0.9270833333333334\n"
     ]
    }
   ],
   "source": [
    "sr_model_4()"
   ]
  },
  {
   "cell_type": "code",
   "execution_count": 29,
   "metadata": {},
   "outputs": [],
   "source": [
    "def sr_model_5():\n",
    "    data = sr_workout[['age','weight','height','goal']]\n",
    "    labl=LabelEncoder()\n",
    "    target = labl.fit_transform(sr_workout['side laterals'])\n",
    "    #print(labl.classes_)\n",
    "    mapping = dict(zip(labl.classes_, range(len(labl.classes_))))\n",
    "    with open('model_5.pickle', 'wb') as handle:\n",
    "        pk.dump(mapping, handle, protocol=pk.HIGHEST_PROTOCOL)\n",
    "    print(mapping)\n",
    "    data_train, data_test, target_train, target_test = train_test_split(data, target, test_size = 0.30,random_state=0)\n",
    "    from sklearn.svm import SVC\n",
    "    from sklearn.metrics import accuracy_score\n",
    "    model = SVC(gamma='auto')\n",
    "    pred = model.fit(data_train, target_train)\n",
    "    print(pred.score(data_test,target_test))\n",
    "    filename = 'model_5.sav'\n",
    "    pk.dump(model, open(filename, 'wb'))\n",
    "    #return labl.inverse_transform(pred.predict(data_test)),labl.inverse_transform(target_test)"
   ]
  },
  {
   "cell_type": "code",
   "execution_count": 30,
   "metadata": {},
   "outputs": [
    {
     "name": "stdout",
     "output_type": "stream",
     "text": [
      "{3.12: 0, 3.15: 1, 4.12: 2, 4.6: 3, 4.8: 4, 5.6: 5}\n",
      "0.93125\n"
     ]
    }
   ],
   "source": [
    "sr_model_5()"
   ]
  },
  {
   "cell_type": "code",
   "execution_count": 33,
   "metadata": {},
   "outputs": [],
   "source": [
    "def sr_model_6():\n",
    "    data = sr_workout[['age','weight','height','goal']]\n",
    "    labl=LabelEncoder()\n",
    "    target = labl.fit_transform(sr_workout['rear delt flyes'])\n",
    "    #print(labl.classes_)\n",
    "    mapping = dict(zip(labl.classes_, range(len(labl.classes_))))\n",
    "    with open('model_6.pickle', 'wb') as handle:\n",
    "        pk.dump(mapping, handle, protocol=pk.HIGHEST_PROTOCOL)\n",
    "    print(mapping)\n",
    "    data_train, data_test, target_train, target_test = train_test_split(data, target, test_size = 0.30,random_state=0)\n",
    "    from sklearn.svm import SVC\n",
    "    from sklearn.metrics import accuracy_score\n",
    "    model = SVC(gamma='auto')\n",
    "    pred = model.fit(data_train, target_train)\n",
    "    print(pred.score(data_test,target_test))\n",
    "    filename = 'model_6.sav'\n",
    "    pk.dump(model, open(filename, 'wb'))\n",
    "    #return labl.inverse_transform(pred.predict(data_test)),labl.inverse_transform(target_test)"
   ]
  },
  {
   "cell_type": "code",
   "execution_count": 34,
   "metadata": {},
   "outputs": [
    {
     "name": "stdout",
     "output_type": "stream",
     "text": [
      "{3.12: 0, 3.15: 1, 4.12: 2, 4.6: 3, 4.8: 4, 5.6: 5}\n",
      "0.8979166666666667\n"
     ]
    }
   ],
   "source": [
    "sr_model_6()"
   ]
  },
  {
   "cell_type": "code",
   "execution_count": 35,
   "metadata": {},
   "outputs": [],
   "source": [
    "def sr_model_7():\n",
    "    data = sr_workout[['age','weight','height','goal']]\n",
    "    labl=LabelEncoder()\n",
    "    target = labl.fit_transform(sr_workout['face pull'])\n",
    "    #print(labl.classes_)\n",
    "    mapping = dict(zip(labl.classes_, range(len(labl.classes_))))\n",
    "    with open('model_7.pickle', 'wb') as handle:\n",
    "        pk.dump(mapping, handle, protocol=pk.HIGHEST_PROTOCOL)\n",
    "    print(mapping)\n",
    "    data_train, data_test, target_train, target_test = train_test_split(data, target, test_size = 0.30,random_state=0)\n",
    "    from sklearn.svm import SVC\n",
    "    from sklearn.metrics import accuracy_score\n",
    "    model = SVC(gamma='auto')\n",
    "    pred = model.fit(data_train, target_train)\n",
    "    print(pred.score(data_test,target_test))\n",
    "    filename = 'model_7.sav'\n",
    "    pk.dump(model, open(filename, 'wb'))\n",
    "    #return labl.inverse_transform(pred.predict(data_test)),labl.inverse_transform(target_test)"
   ]
  },
  {
   "cell_type": "code",
   "execution_count": 36,
   "metadata": {},
   "outputs": [
    {
     "name": "stdout",
     "output_type": "stream",
     "text": [
      "{3.12: 0, 3.15: 1, 4.12: 2, 4.6: 3, 4.8: 4, 5.6: 5}\n",
      "0.9458333333333333\n"
     ]
    }
   ],
   "source": [
    "sr_model_7()"
   ]
  },
  {
   "cell_type": "code",
   "execution_count": 37,
   "metadata": {},
   "outputs": [],
   "source": [
    "def sr_model_8():\n",
    "    data = sr_workout[['age','weight','height','goal']]\n",
    "    labl=LabelEncoder()\n",
    "    target = labl.fit_transform(sr_workout['dumbell shrugs'])\n",
    "    #print(labl.classes_)\n",
    "    mapping = dict(zip(labl.classes_, range(len(labl.classes_))))\n",
    "    with open('model_8.pickle', 'wb') as handle:\n",
    "        pk.dump(mapping, handle, protocol=pk.HIGHEST_PROTOCOL)\n",
    "    print(mapping)\n",
    "    data_train, data_test, target_train, target_test = train_test_split(data, target, test_size = 0.30,random_state=0)\n",
    "    from sklearn.svm import SVC\n",
    "    from sklearn.metrics import accuracy_score\n",
    "    model = SVC(gamma='auto')\n",
    "    pred = model.fit(data_train, target_train)\n",
    "    print(pred.score(data_test,target_test))\n",
    "    filename = 'model_8.sav'\n",
    "    pk.dump(model, open(filename, 'wb'))\n",
    "    #return labl.inverse_transform(pred.predict(data_test)),labl.inverse_transform(target_test)"
   ]
  },
  {
   "cell_type": "code",
   "execution_count": 38,
   "metadata": {},
   "outputs": [
    {
     "name": "stdout",
     "output_type": "stream",
     "text": [
      "{3.12: 0, 3.15: 1, 4.12: 2, 4.6: 3, 4.8: 4, 5.6: 5}\n",
      "0.9145833333333333\n"
     ]
    }
   ],
   "source": [
    "sr_model_8()"
   ]
  },
  {
   "cell_type": "code",
   "execution_count": 71,
   "metadata": {},
   "outputs": [],
   "source": [
    "def sr_model_9():\n",
    "    data = sr_workout[['age','weight','height','goal']]\n",
    "    labl=LabelEncoder()\n",
    "    target = labl.fit_transform(sr_workout['deadlift'])\n",
    "    #print(labl.classes_)\n",
    "    mapping = dict(zip(labl.classes_, range(len(labl.classes_))))\n",
    "    with open('model_9.pickle', 'wb') as handle:\n",
    "        pk.dump(mapping, handle, protocol=pk.HIGHEST_PROTOCOL)\n",
    "    print(mapping)\n",
    "    data_train, data_test, target_train, target_test = train_test_split(data, target, test_size = 0.30,random_state=0)\n",
    "    from sklearn.svm import SVC\n",
    "    from sklearn.metrics import accuracy_score\n",
    "    model = SVC(gamma='auto')\n",
    "    pred = model.fit(data_train, target_train)\n",
    "    print(pred.score(data_test,target_test))\n",
    "    filename = 'model_9.sav'\n",
    "    pk.dump(model, open(filename, 'wb'))\n",
    "    #return labl.inverse_transform(pred.predict(data_test)),labl.inverse_transform(target_test)"
   ]
  },
  {
   "cell_type": "code",
   "execution_count": 72,
   "metadata": {},
   "outputs": [
    {
     "name": "stdout",
     "output_type": "stream",
     "text": [
      "{3.12: 0, 3.15: 1, 4.12: 2, 4.6: 3, 4.8: 4, 5.6: 5}\n",
      "0.9229166666666667\n"
     ]
    }
   ],
   "source": [
    "sr_model_9()"
   ]
  },
  {
   "cell_type": "code",
   "execution_count": 40,
   "metadata": {},
   "outputs": [],
   "source": [
    "def sr_model_10():\n",
    "    data = sr_workout[['age','weight','height','goal']]\n",
    "    labl=LabelEncoder()\n",
    "    target = labl.fit_transform(sr_workout['bent over barbell rows'])\n",
    "    #print(labl.classes_)\n",
    "    mapping = dict(zip(labl.classes_, range(len(labl.classes_))))\n",
    "    with open('model_10.pickle', 'wb') as handle:\n",
    "        pk.dump(mapping, handle, protocol=pk.HIGHEST_PROTOCOL)\n",
    "    print(mapping)\n",
    "    data_train, data_test, target_train, target_test = train_test_split(data, target, test_size = 0.30,random_state=0)\n",
    "    from sklearn.svm import SVC\n",
    "    from sklearn.metrics import accuracy_score\n",
    "    model = SVC(gamma='auto')\n",
    "    pred = model.fit(data_train, target_train)\n",
    "    print(pred.score(data_test,target_test))\n",
    "    filename = 'model_10.sav'\n",
    "    pk.dump(model, open(filename, 'wb'))\n",
    "    #return labl.inverse_transform(pred.predict(data_test)),labl.inverse_transform(target_test)"
   ]
  },
  {
   "cell_type": "code",
   "execution_count": 41,
   "metadata": {},
   "outputs": [
    {
     "name": "stdout",
     "output_type": "stream",
     "text": [
      "{3.12: 0, 3.15: 1, 4.12: 2, 4.6: 3, 4.8: 4, 5.6: 5}\n",
      "0.8895833333333333\n"
     ]
    }
   ],
   "source": [
    "sr_model_10()"
   ]
  },
  {
   "cell_type": "code",
   "execution_count": 42,
   "metadata": {},
   "outputs": [],
   "source": [
    "def sr_model_11():\n",
    "    data = sr_workout[['age','weight','height','goal']]\n",
    "    labl=LabelEncoder()\n",
    "    target = labl.fit_transform(sr_workout['T bar rows'])\n",
    "    #print(labl.classes_)\n",
    "    mapping = dict(zip(labl.classes_, range(len(labl.classes_))))\n",
    "    with open('model_11.pickle', 'wb') as handle:\n",
    "        pk.dump(mapping, handle, protocol=pk.HIGHEST_PROTOCOL)\n",
    "    print(mapping)\n",
    "    data_train, data_test, target_train, target_test = train_test_split(data, target, test_size = 0.30,random_state=0)\n",
    "    from sklearn.svm import SVC\n",
    "    from sklearn.metrics import accuracy_score\n",
    "    model = SVC(gamma='auto')\n",
    "    pred = model.fit(data_train, target_train)\n",
    "    print(pred.score(data_test,target_test))\n",
    "    filename = 'model_11.sav'\n",
    "    pk.dump(model, open(filename, 'wb'))\n",
    "    #return labl.inverse_transform(pred.predict(data_test)),labl.inverse_transform(target_test)"
   ]
  },
  {
   "cell_type": "code",
   "execution_count": 43,
   "metadata": {},
   "outputs": [
    {
     "name": "stdout",
     "output_type": "stream",
     "text": [
      "{3.12: 0, 3.15: 1, 4.12: 2, 4.6: 3, 4.8: 4, 5.6: 5}\n",
      "0.9229166666666667\n"
     ]
    }
   ],
   "source": [
    "sr_model_11()"
   ]
  },
  {
   "cell_type": "code",
   "execution_count": 44,
   "metadata": {},
   "outputs": [],
   "source": [
    "def sr_model_12():\n",
    "    data = sr_workout[['age','weight','height','goal']]\n",
    "    labl=LabelEncoder()\n",
    "    target = labl.fit_transform(sr_workout['front cable pull down'])\n",
    "    #print(labl.classes_)\n",
    "    mapping = dict(zip(labl.classes_, range(len(labl.classes_))))\n",
    "    with open('model_12.pickle', 'wb') as handle:\n",
    "        pk.dump(mapping, handle, protocol=pk.HIGHEST_PROTOCOL)\n",
    "    print(mapping)\n",
    "    data_train, data_test, target_train, target_test = train_test_split(data, target, test_size = 0.30,random_state=0)\n",
    "    from sklearn.svm import SVC\n",
    "    from sklearn.metrics import accuracy_score\n",
    "    model = SVC(gamma='auto')\n",
    "    pred = model.fit(data_train, target_train)\n",
    "    print(pred.score(data_test,target_test))\n",
    "    filename = 'model_12.sav'\n",
    "    pk.dump(model, open(filename, 'wb'))\n",
    "    #return labl.inverse_transform(pred.predict(data_test)),labl.inverse_transform(target_test)"
   ]
  },
  {
   "cell_type": "code",
   "execution_count": 45,
   "metadata": {},
   "outputs": [
    {
     "name": "stdout",
     "output_type": "stream",
     "text": [
      "{3.12: 0, 3.15: 1, 4.12: 2, 4.6: 3, 4.8: 4, 5.6: 5}\n",
      "0.9291666666666667\n"
     ]
    }
   ],
   "source": [
    "sr_model_12()"
   ]
  },
  {
   "cell_type": "code",
   "execution_count": 46,
   "metadata": {},
   "outputs": [],
   "source": [
    "def sr_model_13():\n",
    "    data = sr_workout[['age','weight','height','goal']]\n",
    "    labl=LabelEncoder()\n",
    "    target = labl.fit_transform(sr_workout['back cable pull down'])\n",
    "    #print(labl.classes_)\n",
    "    mapping = dict(zip(labl.classes_, range(len(labl.classes_))))\n",
    "    with open('model_13.pickle', 'wb') as handle:\n",
    "        pk.dump(mapping, handle, protocol=pk.HIGHEST_PROTOCOL)\n",
    "    print(mapping)\n",
    "    data_train, data_test, target_train, target_test = train_test_split(data, target, test_size = 0.30,random_state=0)\n",
    "    from sklearn.svm import SVC\n",
    "    from sklearn.metrics import accuracy_score\n",
    "    model = SVC(gamma='auto')\n",
    "    pred = model.fit(data_train, target_train)\n",
    "    print(pred.score(data_test,target_test))\n",
    "    filename = 'model_13.sav'\n",
    "    pk.dump(model, open(filename, 'wb'))\n",
    "    #return labl.inverse_transform(pred.predict(data_test)),labl.inverse_transform(target_test)"
   ]
  },
  {
   "cell_type": "code",
   "execution_count": 47,
   "metadata": {},
   "outputs": [
    {
     "name": "stdout",
     "output_type": "stream",
     "text": [
      "{3.12: 0, 3.15: 1, 4.12: 2, 4.6: 3, 4.8: 4, 5.6: 5}\n",
      "0.9166666666666666\n"
     ]
    }
   ],
   "source": [
    "sr_model_13()"
   ]
  },
  {
   "cell_type": "code",
   "execution_count": 48,
   "metadata": {},
   "outputs": [],
   "source": [
    "def sr_model_14():\n",
    "    data = sr_workout[['age','weight','height','goal']]\n",
    "    labl=LabelEncoder()\n",
    "    target = labl.fit_transform(sr_workout['barbell curls'])\n",
    "    #print(labl.classes_)\n",
    "    mapping = dict(zip(labl.classes_, range(len(labl.classes_))))\n",
    "    with open('model_14.pickle', 'wb') as handle:\n",
    "        pk.dump(mapping, handle, protocol=pk.HIGHEST_PROTOCOL)\n",
    "    print(mapping)\n",
    "    data_train, data_test, target_train, target_test = train_test_split(data, target, test_size = 0.30,random_state=0)\n",
    "    from sklearn.svm import SVC\n",
    "    from sklearn.metrics import accuracy_score\n",
    "    model = SVC(gamma='auto')\n",
    "    pred = model.fit(data_train, target_train)\n",
    "    print(pred.score(data_test,target_test))\n",
    "    filename = 'model_14.sav'\n",
    "    pk.dump(model, open(filename, 'wb'))\n",
    "    #return labl.inverse_transform(pred.predict(data_test)),labl.inverse_transform(target_test)"
   ]
  },
  {
   "cell_type": "code",
   "execution_count": 49,
   "metadata": {},
   "outputs": [
    {
     "name": "stdout",
     "output_type": "stream",
     "text": [
      "{3.12: 0, 3.15: 1, 4.12: 2, 4.6: 3, 4.8: 4, 5.6: 5}\n",
      "0.9166666666666666\n"
     ]
    }
   ],
   "source": [
    "sr_model_14()"
   ]
  },
  {
   "cell_type": "code",
   "execution_count": 50,
   "metadata": {},
   "outputs": [],
   "source": [
    "def sr_model_15():\n",
    "    data = sr_workout[['age','weight','height','goal']]\n",
    "    labl=LabelEncoder()\n",
    "    target = labl.fit_transform(sr_workout['hammer curls'])\n",
    "    #print(labl.classes_)\n",
    "    mapping = dict(zip(labl.classes_, range(len(labl.classes_))))\n",
    "    with open('model_15.pickle', 'wb') as handle:\n",
    "        pk.dump(mapping, handle, protocol=pk.HIGHEST_PROTOCOL)\n",
    "    print(mapping)\n",
    "    data_train, data_test, target_train, target_test = train_test_split(data, target, test_size = 0.30,random_state=0)\n",
    "    from sklearn.svm import SVC\n",
    "    from sklearn.metrics import accuracy_score\n",
    "    model = SVC(gamma='auto')\n",
    "    pred = model.fit(data_train, target_train)\n",
    "    print(pred.score(data_test,target_test))\n",
    "    filename = 'model_15.sav'\n",
    "    pk.dump(model, open(filename, 'wb'))\n",
    "    #return labl.inverse_transform(pred.predict(data_test)),labl.inverse_transform(target_test)"
   ]
  },
  {
   "cell_type": "code",
   "execution_count": 51,
   "metadata": {},
   "outputs": [
    {
     "name": "stdout",
     "output_type": "stream",
     "text": [
      "{3.12: 0, 3.15: 1, 4.12: 2, 4.6: 3, 4.8: 4, 5.6: 5}\n",
      "0.9270833333333334\n"
     ]
    }
   ],
   "source": [
    "sr_model_15()"
   ]
  },
  {
   "cell_type": "code",
   "execution_count": 52,
   "metadata": {},
   "outputs": [],
   "source": [
    "def sr_model_16():\n",
    "    data = sr_workout[['age','weight','height','goal']]\n",
    "    labl=LabelEncoder()\n",
    "    target = labl.fit_transform(sr_workout['ez bar curls'])\n",
    "    #print(labl.classes_)\n",
    "    mapping = dict(zip(labl.classes_, range(len(labl.classes_))))\n",
    "    with open('model_16.pickle', 'wb') as handle:\n",
    "        pk.dump(mapping, handle, protocol=pk.HIGHEST_PROTOCOL)\n",
    "    print(mapping)\n",
    "    data_train, data_test, target_train, target_test = train_test_split(data, target, test_size = 0.30,random_state=0)\n",
    "    from sklearn.svm import SVC\n",
    "    from sklearn.metrics import accuracy_score\n",
    "    model = SVC(gamma='auto')\n",
    "    pred = model.fit(data_train, target_train)\n",
    "    print(pred.score(data_test,target_test))\n",
    "    filename = 'model_16.sav'\n",
    "    pk.dump(model, open(filename, 'wb'))\n",
    "    #return labl.inverse_transform(pred.predict(data_test)),labl.inverse_transform(target_test)"
   ]
  },
  {
   "cell_type": "code",
   "execution_count": 53,
   "metadata": {},
   "outputs": [
    {
     "name": "stdout",
     "output_type": "stream",
     "text": [
      "{3.12: 0, 3.15: 1, 4.12: 2, 4.6: 3, 4.8: 4, 5.6: 5}\n",
      "0.91875\n"
     ]
    }
   ],
   "source": [
    "sr_model_16()"
   ]
  },
  {
   "cell_type": "code",
   "execution_count": 54,
   "metadata": {},
   "outputs": [],
   "source": [
    "def sr_model_17():\n",
    "    data = sr_workout[['age','weight','height','goal']]\n",
    "    labl=LabelEncoder()\n",
    "    target = labl.fit_transform(sr_workout['preacher curls'])\n",
    "    #print(labl.classes_)\n",
    "    mapping = dict(zip(labl.classes_, range(len(labl.classes_))))\n",
    "    with open('model_17.pickle', 'wb') as handle:\n",
    "        pk.dump(mapping, handle, protocol=pk.HIGHEST_PROTOCOL)\n",
    "    print(mapping)\n",
    "    data_train, data_test, target_train, target_test = train_test_split(data, target, test_size = 0.30,random_state=0)\n",
    "    from sklearn.svm import SVC\n",
    "    from sklearn.metrics import accuracy_score\n",
    "    model = SVC(gamma='auto')\n",
    "    pred = model.fit(data_train, target_train)\n",
    "    print(pred.score(data_test,target_test))\n",
    "    filename = 'model_17.sav'\n",
    "    pk.dump(model, open(filename, 'wb'))\n",
    "    #return labl.inverse_transform(pred.predict(data_test)),labl.inverse_transform(target_test)"
   ]
  },
  {
   "cell_type": "code",
   "execution_count": 55,
   "metadata": {},
   "outputs": [
    {
     "name": "stdout",
     "output_type": "stream",
     "text": [
      "{3.12: 0, 3.15: 1, 4.12: 2, 4.6: 3, 4.8: 4, 5.6: 5}\n",
      "0.9229166666666667\n"
     ]
    }
   ],
   "source": [
    "sr_model_17()"
   ]
  },
  {
   "cell_type": "code",
   "execution_count": 56,
   "metadata": {},
   "outputs": [],
   "source": [
    "def sr_model_18():\n",
    "    data = sr_workout[['age','weight','height','goal']]\n",
    "    labl=LabelEncoder()\n",
    "    target = labl.fit_transform(sr_workout['tricep dips'])\n",
    "    #print(labl.classes_)\n",
    "    mapping = dict(zip(labl.classes_, range(len(labl.classes_))))\n",
    "    with open('model_18.pickle', 'wb') as handle:\n",
    "        pk.dump(mapping, handle, protocol=pk.HIGHEST_PROTOCOL)\n",
    "    print(mapping)\n",
    "    data_train, data_test, target_train, target_test = train_test_split(data, target, test_size = 0.30,random_state=0)\n",
    "    from sklearn.svm import SVC\n",
    "    from sklearn.metrics import accuracy_score\n",
    "    model = SVC(gamma='auto')\n",
    "    pred = model.fit(data_train, target_train)\n",
    "    print(pred.score(data_test,target_test))\n",
    "    filename = 'model_18.sav'\n",
    "    pk.dump(model, open(filename, 'wb'))\n",
    "    #return labl.inverse_transform(pred.predict(data_test)),labl.inverse_transform(target_test)"
   ]
  },
  {
   "cell_type": "code",
   "execution_count": 57,
   "metadata": {},
   "outputs": [
    {
     "name": "stdout",
     "output_type": "stream",
     "text": [
      "{3.12: 0, 3.15: 1, 4.12: 2, 4.6: 3, 4.8: 4, 5.6: 5}\n",
      "0.9229166666666667\n"
     ]
    }
   ],
   "source": [
    "sr_model_18()"
   ]
  },
  {
   "cell_type": "code",
   "execution_count": 58,
   "metadata": {},
   "outputs": [],
   "source": [
    "def sr_model_19():\n",
    "    data = sr_workout[['age','weight','height','goal']]\n",
    "    labl=LabelEncoder()\n",
    "    target = labl.fit_transform(sr_workout['double hand overhead dumbell press'])\n",
    "    #print(labl.classes_)\n",
    "    mapping = dict(zip(labl.classes_, range(len(labl.classes_))))\n",
    "    with open('model_19.pickle', 'wb') as handle:\n",
    "        pk.dump(mapping, handle, protocol=pk.HIGHEST_PROTOCOL)\n",
    "    print(mapping)\n",
    "    data_train, data_test, target_train, target_test = train_test_split(data, target, test_size = 0.30,random_state=0)\n",
    "    from sklearn.svm import SVC\n",
    "    from sklearn.metrics import accuracy_score\n",
    "    model = SVC(gamma='auto')\n",
    "    pred = model.fit(data_train, target_train)\n",
    "    print(pred.score(data_test,target_test))\n",
    "    filename = 'model_19.sav'\n",
    "    pk.dump(model, open(filename, 'wb'))\n",
    "    #return labl.inverse_transform(pred.predict(data_test)),labl.inverse_transform(target_test)"
   ]
  },
  {
   "cell_type": "code",
   "execution_count": 59,
   "metadata": {},
   "outputs": [
    {
     "name": "stdout",
     "output_type": "stream",
     "text": [
      "{3.12: 0, 3.15: 1, 4.12: 2, 4.6: 3, 4.8: 4, 5.6: 5}\n",
      "0.93125\n"
     ]
    }
   ],
   "source": [
    "sr_model_19()"
   ]
  },
  {
   "cell_type": "code",
   "execution_count": 60,
   "metadata": {},
   "outputs": [],
   "source": [
    "def sr_model_20():\n",
    "    data = sr_workout[['age','weight','height','goal']]\n",
    "    labl=LabelEncoder()\n",
    "    target = labl.fit_transform(sr_workout['skullcrusher'])\n",
    "    #print(labl.classes_)\n",
    "    mapping = dict(zip(labl.classes_, range(len(labl.classes_))))\n",
    "    with open('model_20.pickle', 'wb') as handle:\n",
    "        pk.dump(mapping, handle, protocol=pk.HIGHEST_PROTOCOL)\n",
    "    print(mapping)\n",
    "    data_train, data_test, target_train, target_test = train_test_split(data, target, test_size = 0.30,random_state=0)\n",
    "    from sklearn.svm import SVC\n",
    "    from sklearn.metrics import accuracy_score\n",
    "    model = SVC(gamma='auto')\n",
    "    pred = model.fit(data_train, target_train)\n",
    "    print(pred.score(data_test,target_test))\n",
    "    filename = 'model_20.sav'\n",
    "    pk.dump(model, open(filename, 'wb'))\n",
    "    #return labl.inverse_transform(pred.predict(data_test)),labl.inverse_transform(target_test)"
   ]
  },
  {
   "cell_type": "code",
   "execution_count": 61,
   "metadata": {},
   "outputs": [
    {
     "name": "stdout",
     "output_type": "stream",
     "text": [
      "{3.12: 0, 3.15: 1, 4.12: 2, 4.6: 3, 4.8: 4, 5.6: 5}\n",
      "0.90625\n"
     ]
    }
   ],
   "source": [
    "sr_model_20()"
   ]
  },
  {
   "cell_type": "code",
   "execution_count": 62,
   "metadata": {},
   "outputs": [],
   "source": [
    "def sr_model_21():\n",
    "    data = sr_workout[['age','weight','height','goal']]\n",
    "    labl=LabelEncoder()\n",
    "    target = labl.fit_transform(sr_workout['squat'])\n",
    "    #print(labl.classes_)\n",
    "    mapping = dict(zip(labl.classes_, range(len(labl.classes_))))\n",
    "    with open('model_21.pickle', 'wb') as handle:\n",
    "        pk.dump(mapping, handle, protocol=pk.HIGHEST_PROTOCOL)\n",
    "    print(mapping)\n",
    "    data_train, data_test, target_train, target_test = train_test_split(data, target, test_size = 0.30,random_state=0)\n",
    "    from sklearn.svm import SVC\n",
    "    from sklearn.metrics import accuracy_score\n",
    "    model = SVC(gamma='auto')\n",
    "    pred = model.fit(data_train, target_train)\n",
    "    print(pred.score(data_test,target_test))\n",
    "    filename = 'model_21.sav'\n",
    "    pk.dump(model, open(filename, 'wb'))\n",
    "    #return labl.inverse_transform(pred.predict(data_test)),labl.inverse_transform(target_test)"
   ]
  },
  {
   "cell_type": "code",
   "execution_count": 63,
   "metadata": {},
   "outputs": [
    {
     "name": "stdout",
     "output_type": "stream",
     "text": [
      "{3.12: 0, 3.15: 1, 4.12: 2, 4.6: 3, 4.8: 4, 5.6: 5}\n",
      "0.9291666666666667\n"
     ]
    }
   ],
   "source": [
    "sr_model_21()"
   ]
  },
  {
   "cell_type": "code",
   "execution_count": 64,
   "metadata": {},
   "outputs": [],
   "source": [
    "def sr_model_22():\n",
    "    data = sr_workout[['age','weight','height','goal']]\n",
    "    labl=LabelEncoder()\n",
    "    target = labl.fit_transform(sr_workout['dumbell lunges'])\n",
    "    #print(labl.classes_)\n",
    "    mapping = dict(zip(labl.classes_, range(len(labl.classes_))))\n",
    "    with open('model_22.pickle', 'wb') as handle:\n",
    "        pk.dump(mapping, handle, protocol=pk.HIGHEST_PROTOCOL)\n",
    "    print(mapping)\n",
    "    data_train, data_test, target_train, target_test = train_test_split(data, target, test_size = 0.30,random_state=0)\n",
    "    from sklearn.svm import SVC\n",
    "    from sklearn.metrics import accuracy_score\n",
    "    model = SVC(gamma='auto')\n",
    "    pred = model.fit(data_train, target_train)\n",
    "    print(pred.score(data_test,target_test))\n",
    "    filename = 'model_22.sav'\n",
    "    pk.dump(model, open(filename, 'wb'))\n",
    "    #return labl.inverse_transform(pred.predict(data_test)),labl.inverse_transform(target_test)"
   ]
  },
  {
   "cell_type": "code",
   "execution_count": 65,
   "metadata": {},
   "outputs": [
    {
     "name": "stdout",
     "output_type": "stream",
     "text": [
      "{3.12: 0, 3.15: 1, 4.12: 2, 4.6: 3, 4.8: 4, 5.6: 5}\n",
      "0.9291666666666667\n"
     ]
    }
   ],
   "source": [
    "sr_model_22()"
   ]
  },
  {
   "cell_type": "code",
   "execution_count": 66,
   "metadata": {},
   "outputs": [],
   "source": [
    "def sr_model_23():\n",
    "    data = sr_workout[['age','weight','height','goal']]\n",
    "    labl=LabelEncoder()\n",
    "    target = labl.fit_transform(sr_workout['leg press'])\n",
    "    #print(labl.classes_)\n",
    "    mapping = dict(zip(labl.classes_, range(len(labl.classes_))))\n",
    "    with open('model_23.pickle', 'wb') as handle:\n",
    "        pk.dump(mapping, handle, protocol=pk.HIGHEST_PROTOCOL)\n",
    "    print(mapping)\n",
    "    data_train, data_test, target_train, target_test = train_test_split(data, target, test_size = 0.30,random_state=0)\n",
    "    from sklearn.svm import SVC\n",
    "    from sklearn.metrics import accuracy_score\n",
    "    model = SVC(gamma='auto')\n",
    "    pred = model.fit(data_train, target_train)\n",
    "    print(pred.score(data_test,target_test))\n",
    "    filename = 'model_23.sav'\n",
    "    pk.dump(model, open(filename, 'wb'))\n",
    "    #return labl.inverse_transform(pred.predict(data_test)),labl.inverse_transform(target_test)"
   ]
  },
  {
   "cell_type": "code",
   "execution_count": 67,
   "metadata": {},
   "outputs": [
    {
     "name": "stdout",
     "output_type": "stream",
     "text": [
      "{3.12: 0, 3.15: 1, 4.12: 2, 4.6: 3, 4.8: 4, 5.6: 5}\n",
      "0.91875\n"
     ]
    }
   ],
   "source": [
    "sr_model_23()"
   ]
  },
  {
   "cell_type": "code",
   "execution_count": 68,
   "metadata": {},
   "outputs": [],
   "source": [
    "def sr_model_24():\n",
    "    data = sr_workout[['age','weight','height','goal']]\n",
    "    labl=LabelEncoder()\n",
    "    target = labl.fit_transform(sr_workout['lying leg curl'])\n",
    "    #print(labl.classes_)\n",
    "    mapping = dict(zip(labl.classes_, range(len(labl.classes_))))\n",
    "    with open('model_24.pickle', 'wb') as handle:\n",
    "        pk.dump(mapping, handle, protocol=pk.HIGHEST_PROTOCOL)\n",
    "    print(mapping)\n",
    "    data_train, data_test, target_train, target_test = train_test_split(data, target, test_size = 0.30,random_state=0)\n",
    "    from sklearn.svm import SVC\n",
    "    from sklearn.metrics import accuracy_score\n",
    "    model = SVC(gamma='auto')\n",
    "    pred = model.fit(data_train, target_train)\n",
    "    print(pred.score(data_test,target_test))\n",
    "    filename = 'model_24.sav'\n",
    "    pk.dump(model, open(filename, 'wb'))\n",
    "    #return labl.inverse_transform(pred.predict(data_test)),labl.inverse_transform(target_test)"
   ]
  },
  {
   "cell_type": "code",
   "execution_count": 69,
   "metadata": {},
   "outputs": [
    {
     "name": "stdout",
     "output_type": "stream",
     "text": [
      "{3.12: 0, 3.15: 1, 4.12: 2, 4.6: 3, 4.8: 4, 5.6: 5}\n",
      "0.90625\n"
     ]
    }
   ],
   "source": [
    "sr_model_24()"
   ]
  },
  {
   "cell_type": "code",
   "execution_count": 87,
   "metadata": {},
   "outputs": [
    {
     "name": "stdout",
     "output_type": "stream",
     "text": [
      "[1]\n",
      "{3.12: 0, 3.15: 1, 4.12: 2, 4.6: 3, 4.8: 4, 5.6: 5}\n",
      "[3.12, 3.15, 4.12, 4.6, 4.8, 5.6]\n",
      "3.15\n"
     ]
    }
   ],
   "source": [
    "import numpy as np\n",
    "a = np.array([27,81,4.11,0])\n",
    "res = Smodel_10.predict([a])\n",
    "print(res)\n",
    "\n",
    "print(Tdict)\n",
    "key_list = list(Tdict_10.keys())\n",
    "val_list = list(Tdict_10.values())\n",
    "print(key_list)\n",
    "print(key_list[val_list.index(res)]) \n"
   ]
  }
 ],
 "metadata": {
  "kernelspec": {
   "display_name": "Python 3",
   "language": "python",
   "name": "python3"
  },
  "language_info": {
   "codemirror_mode": {
    "name": "ipython",
    "version": 3
   },
   "file_extension": ".py",
   "mimetype": "text/x-python",
   "name": "python",
   "nbconvert_exporter": "python",
   "pygments_lexer": "ipython3",
   "version": "3.7.4"
  }
 },
 "nbformat": 4,
 "nbformat_minor": 2
}
