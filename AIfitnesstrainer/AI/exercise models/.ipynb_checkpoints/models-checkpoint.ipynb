{
 "cells": [
  {
   "cell_type": "code",
   "execution_count": 16,
   "metadata": {},
   "outputs": [],
   "source": [
    "import pandas as pd\n",
    "import pickle as pk\n",
    "from sklearn.model_selection import train_test_split\n",
    "# load the model from disk\n",
    "load_model_1 = pk.load(open('finalized_model_1.sav', 'rb'))\n",
    "load_model_2 = pk.load(open('finalized_model_2.sav', 'rb'))\n",
    "load_model_3 = pk.load(open('finalized_model_3.sav', 'rb'))\n",
    "load_model_4 = pk.load(open('finalized_model_4.sav', 'rb'))\n",
    "load_model_5 = pk.load(open('finalized_model_5.sav', 'rb'))\n",
    "load_model_6 = pk.load(open('finalized_model_6.sav', 'rb'))\n",
    "load_model_7 = pk.load(open('finalized_model_7.sav', 'rb'))\n",
    "load_model_8 = pk.load(open('finalized_model_8.sav', 'rb'))\n",
    "load_model_9 = pk.load(open('finalized_model_9.sav', 'rb'))\n",
    "load_model_10 = pk.load(open('finalized_model_10.sav', 'rb'))\n",
    "load_model_11 = pk.load(open('finalized_model_11.sav', 'rb'))\n",
    "load_model_12 = pk.load(open('finalized_model_12.sav', 'rb'))\n",
    "load_model_13 = pk.load(open('finalized_model_13.sav', 'rb'))\n",
    "load_model_14 = pk.load(open('finalized_model_14.sav', 'rb'))\n",
    "load_model_15 = pk.load(open('finalized_model_15.sav', 'rb'))\n",
    "load_model_16 = pk.load(open('finalized_model_16.sav', 'rb'))\n",
    "load_model_17 = pk.load(open('finalized_model_17.sav', 'rb'))\n",
    "load_model_18 = pk.load(open('finalized_model_18.sav', 'rb'))\n",
    "load_model_19 = pk.load(open('finalized_model_19.sav', 'rb'))\n",
    "load_model_20 = pk.load(open('finalized_model_20.sav', 'rb'))\n",
    "load_model_21 = pk.load(open('finalized_model_21.sav', 'rb'))\n",
    "load_model_22 = pk.load(open('finalized_model_22.sav', 'rb'))\n",
    "load_model_23 = pk.load(open('finalized_model_23.sav', 'rb'))\n",
    "load_model_24 = pk.load(open('finalized_model_24.sav', 'rb'))\n",
    "\n",
    "d_workout = pd.read_csv('C:/Users/Ali Raza Qureshi/Desktop/Models/exercise models/workout.csv')"
   ]
  },
  {
   "cell_type": "code",
   "execution_count": 21,
   "metadata": {},
   "outputs": [
    {
     "name": "stdout",
     "output_type": "stream",
     "text": [
      "[0]\n"
     ]
    }
   ],
   "source": [
    "import numpy\n",
    "a = numpy.array([63,93,5.2,0])\n",
    "print(load_model_1.predict([a]))"
   ]
  },
  {
   "cell_type": "code",
   "execution_count": 3,
   "metadata": {},
   "outputs": [],
   "source": [
    "def train_model_1():\n",
    "    data = d_workout[['age','weight','height','goal']]\n",
    "    target = d_workout['straight bench press']\n",
    "    data_train, data_test, target_train, target_test = train_test_split(data, target, test_size = 0.30, random_state=65)\n",
    "    from sklearn.naive_bayes import GaussianNB\n",
    "    from sklearn.metrics import accuracy_score\n",
    "    model = GaussianNB()\n",
    "    pred = model.fit(data_train, target_train).predict(data_test)\n",
    "    print(\"Naive-Bayes accuracy : \",accuracy_score(target_test, pred, normalize = True))\n",
    "    # save the model to disk\n",
    "    filename = 'finalized_model_1.sav'\n",
    "    pk.dump(model, open(filename, 'wb'))"
   ]
  },
  {
   "cell_type": "code",
   "execution_count": 4,
   "metadata": {},
   "outputs": [
    {
     "name": "stdout",
     "output_type": "stream",
     "text": [
      "Naive-Bayes accuracy :  0.7666666666666667\n"
     ]
    }
   ],
   "source": [
    "train_model_1()"
   ]
  },
  {
   "cell_type": "code",
   "execution_count": 5,
   "metadata": {},
   "outputs": [],
   "source": [
    "def train_model_2():\n",
    "    data = d_workout[['age','weight','height','goal']]\n",
    "    target = d_workout['decline bench press']\n",
    "    data_train, data_test, target_train, target_test = train_test_split(data, target, test_size = 0.30, random_state=6)\n",
    "    from sklearn.naive_bayes import GaussianNB\n",
    "    from sklearn.metrics import accuracy_score\n",
    "    model = GaussianNB()\n",
    "    pred = model.fit(data_train, target_train).predict(data_test)\n",
    "    print(\"Naive-Bayes accuracy : \",accuracy_score(target_test, pred, normalize = True))\n",
    "    # save the model to disk\n",
    "    filename = 'finalized_model_2.sav'\n",
    "    pk.dump(model, open(filename, 'wb'))"
   ]
  },
  {
   "cell_type": "code",
   "execution_count": 6,
   "metadata": {},
   "outputs": [
    {
     "name": "stdout",
     "output_type": "stream",
     "text": [
      "Naive-Bayes accuracy :  0.6166666666666667\n"
     ]
    }
   ],
   "source": [
    "train_model_2()"
   ]
  },
  {
   "cell_type": "code",
   "execution_count": 7,
   "metadata": {},
   "outputs": [],
   "source": [
    "def train_model_3():\n",
    "    data = d_workout[['age','weight','height','goal']]\n",
    "    target = d_workout['dumbell flyes']\n",
    "    data_train, data_test, target_train, target_test = train_test_split(data, target, test_size = 0.30, random_state=51)\n",
    "    from sklearn.naive_bayes import GaussianNB\n",
    "    from sklearn.metrics import accuracy_score\n",
    "    model = GaussianNB()\n",
    "    pred = model.fit(data_train, target_train).predict(data_test)\n",
    "    print(\"Naive-Bayes accuracy : \",accuracy_score(target_test, pred, normalize = True))\n",
    "    # save the model to disk\n",
    "    filename = 'finalized_model_3.sav'\n",
    "    pk.dump(model, open(filename, 'wb'))"
   ]
  },
  {
   "cell_type": "code",
   "execution_count": 8,
   "metadata": {},
   "outputs": [
    {
     "name": "stdout",
     "output_type": "stream",
     "text": [
      "Naive-Bayes accuracy :  0.6666666666666666\n"
     ]
    }
   ],
   "source": [
    "train_model_3()"
   ]
  },
  {
   "cell_type": "code",
   "execution_count": 9,
   "metadata": {},
   "outputs": [],
   "source": [
    "def train_model_4():\n",
    "    data = d_workout[['age','weight','height','goal']]\n",
    "    target = d_workout['side laterals']\n",
    "    data_train, data_test, target_train, target_test = train_test_split(data, target, test_size = 0.30, random_state=58)\n",
    "    from sklearn.naive_bayes import GaussianNB\n",
    "    from sklearn.metrics import accuracy_score\n",
    "    model = GaussianNB()\n",
    "    pred = model.fit(data_train, target_train).predict(data_test)\n",
    "    print(\"Naive-Bayes accuracy : \",accuracy_score(target_test, pred, normalize = True))\n",
    "    # save the model to disk\n",
    "    filename = 'finalized_model_4.sav'\n",
    "    pk.dump(model, open(filename, 'wb'))"
   ]
  },
  {
   "cell_type": "code",
   "execution_count": 10,
   "metadata": {},
   "outputs": [
    {
     "name": "stdout",
     "output_type": "stream",
     "text": [
      "Naive-Bayes accuracy :  0.75\n"
     ]
    }
   ],
   "source": [
    "train_model_4()"
   ]
  },
  {
   "cell_type": "code",
   "execution_count": 11,
   "metadata": {},
   "outputs": [],
   "source": [
    "def train_model_5():\n",
    "    data = d_workout[['age','weight','height','goal']]\n",
    "    target = d_workout['rear delt flyes']\n",
    "    data_train, data_test, target_train, target_test = train_test_split(data, target, test_size = 0.30, random_state=65)\n",
    "    from sklearn.naive_bayes import GaussianNB\n",
    "    from sklearn.metrics import accuracy_score\n",
    "    model = GaussianNB()\n",
    "    pred = model.fit(data_train, target_train).predict(data_test)\n",
    "    print(\"Naive-Bayes accuracy : \",accuracy_score(target_test, pred, normalize = True))\n",
    "    # save the model to disk\n",
    "    filename = 'finalized_model_5.sav'\n",
    "    pk.dump(model, open(filename, 'wb'))"
   ]
  },
  {
   "cell_type": "code",
   "execution_count": 12,
   "metadata": {},
   "outputs": [
    {
     "name": "stdout",
     "output_type": "stream",
     "text": [
      "Naive-Bayes accuracy :  0.8\n"
     ]
    }
   ],
   "source": [
    "train_model_5()"
   ]
  },
  {
   "cell_type": "code",
   "execution_count": 13,
   "metadata": {},
   "outputs": [],
   "source": [
    "def train_model_6():\n",
    "    data = d_workout[['age','weight','height','goal']]\n",
    "    target = d_workout['face pull']\n",
    "    data_train, data_test, target_train, target_test = train_test_split(data, target, test_size = 0.30, random_state=61)\n",
    "    from sklearn.naive_bayes import GaussianNB\n",
    "    from sklearn.metrics import accuracy_score\n",
    "    model = GaussianNB()\n",
    "    pred = model.fit(data_train, target_train).predict(data_test)\n",
    "    print(\"Naive-Bayes accuracy : \",accuracy_score(target_test, pred, normalize = True))\n",
    "    # save the model to disk\n",
    "    filename = 'finalized_model_6.sav'\n",
    "    pk.dump(model, open(filename, 'wb'))"
   ]
  },
  {
   "cell_type": "code",
   "execution_count": 14,
   "metadata": {},
   "outputs": [
    {
     "name": "stdout",
     "output_type": "stream",
     "text": [
      "Naive-Bayes accuracy :  0.8\n"
     ]
    }
   ],
   "source": [
    "train_model_6()"
   ]
  },
  {
   "cell_type": "code",
   "execution_count": 15,
   "metadata": {},
   "outputs": [],
   "source": [
    "def train_model_7():\n",
    "    data = d_workout[['age','weight','height','goal']]\n",
    "    target = d_workout['dumbell shrugs']\n",
    "    data_train, data_test, target_train, target_test = train_test_split(data, target, test_size = 0.30, random_state=71)\n",
    "    from sklearn.naive_bayes import GaussianNB\n",
    "    from sklearn.metrics import accuracy_score\n",
    "    model = GaussianNB()\n",
    "    pred = model.fit(data_train, target_train).predict(data_test)\n",
    "    print(\"Naive-Bayes accuracy : \",accuracy_score(target_test, pred, normalize = True))\n",
    "    # save the model to disk\n",
    "    filename = 'finalized_model_7.sav'\n",
    "    pk.dump(model, open(filename, 'wb'))"
   ]
  },
  {
   "cell_type": "code",
   "execution_count": 16,
   "metadata": {},
   "outputs": [
    {
     "name": "stdout",
     "output_type": "stream",
     "text": [
      "Naive-Bayes accuracy :  0.8333333333333334\n"
     ]
    }
   ],
   "source": [
    "train_model_7()"
   ]
  },
  {
   "cell_type": "code",
   "execution_count": 17,
   "metadata": {},
   "outputs": [],
   "source": [
    "def train_model_8():\n",
    "    data = d_workout[['age','weight','height','goal']]\n",
    "    target = d_workout['bent over barbell rows']\n",
    "    data_train, data_test, target_train, target_test = train_test_split(data, target, test_size = 0.30, random_state=38)\n",
    "    from sklearn.naive_bayes import GaussianNB\n",
    "    from sklearn.metrics import accuracy_score\n",
    "    model = GaussianNB()\n",
    "    pred = model.fit(data_train, target_train).predict(data_test)\n",
    "    print(\"Naive-Bayes accuracy : \",accuracy_score(target_test, pred, normalize = True))\n",
    "    # save the model to disk\n",
    "    filename = 'finalized_model_8.sav'\n",
    "    pk.dump(model, open(filename, 'wb'))"
   ]
  },
  {
   "cell_type": "code",
   "execution_count": 18,
   "metadata": {},
   "outputs": [
    {
     "name": "stdout",
     "output_type": "stream",
     "text": [
      "Naive-Bayes accuracy :  0.6333333333333333\n"
     ]
    }
   ],
   "source": [
    "train_model_8()"
   ]
  },
  {
   "cell_type": "code",
   "execution_count": 19,
   "metadata": {},
   "outputs": [],
   "source": [
    "def train_model_9():\n",
    "    data = d_workout[['age','weight','height','goal']]\n",
    "    target = d_workout['T bar rows']\n",
    "    data_train, data_test, target_train, target_test = train_test_split(data, target, test_size = 0.30, random_state=73)\n",
    "    from sklearn.naive_bayes import GaussianNB\n",
    "    from sklearn.metrics import accuracy_score\n",
    "    model = GaussianNB()\n",
    "    pred = model.fit(data_train, target_train).predict(data_test)\n",
    "    print(\"Naive-Bayes accuracy : \",accuracy_score(target_test, pred, normalize = True))\n",
    "    # save the model to disk\n",
    "    filename = 'finalized_model_9.sav'\n",
    "    pk.dump(model, open(filename, 'wb'))"
   ]
  },
  {
   "cell_type": "code",
   "execution_count": 20,
   "metadata": {},
   "outputs": [
    {
     "name": "stdout",
     "output_type": "stream",
     "text": [
      "Naive-Bayes accuracy :  0.7666666666666667\n"
     ]
    }
   ],
   "source": [
    "train_model_9()"
   ]
  },
  {
   "cell_type": "code",
   "execution_count": 21,
   "metadata": {},
   "outputs": [],
   "source": [
    "def train_model_10():\n",
    "    data = d_workout[['age','weight','height','goal']]\n",
    "    target = d_workout['front cable pull down']\n",
    "    data_train, data_test, target_train, target_test = train_test_split(data, target, test_size = 0.30, random_state=62)\n",
    "    from sklearn.naive_bayes import GaussianNB\n",
    "    from sklearn.metrics import accuracy_score\n",
    "    model = GaussianNB()\n",
    "    pred = model.fit(data_train, target_train).predict(data_test)\n",
    "    print(\"Naive-Bayes accuracy : \",accuracy_score(target_test, pred, normalize = True))\n",
    "    # save the model to disk\n",
    "    filename = 'finalized_model_10.sav'\n",
    "    pk.dump(model, open(filename, 'wb'))"
   ]
  },
  {
   "cell_type": "code",
   "execution_count": 22,
   "metadata": {},
   "outputs": [
    {
     "name": "stdout",
     "output_type": "stream",
     "text": [
      "Naive-Bayes accuracy :  0.7666666666666667\n"
     ]
    }
   ],
   "source": [
    "train_model_10()"
   ]
  },
  {
   "cell_type": "code",
   "execution_count": 23,
   "metadata": {},
   "outputs": [],
   "source": [
    "def train_model_11():\n",
    "    data = d_workout[['age','weight','height','goal']]\n",
    "    target = d_workout['back cable pull down']\n",
    "    data_train, data_test, target_train, target_test = train_test_split(data, target, test_size = 0.30, random_state=96)\n",
    "    from sklearn.naive_bayes import GaussianNB\n",
    "    from sklearn.metrics import accuracy_score\n",
    "    model = GaussianNB()\n",
    "    pred = model.fit(data_train, target_train).predict(data_test)\n",
    "    print(\"Naive-Bayes accuracy : \",accuracy_score(target_test, pred, normalize = True))\n",
    "    # save the model to disk\n",
    "    filename = 'finalized_model_11.sav'\n",
    "    pk.dump(model, open(filename, 'wb'))"
   ]
  },
  {
   "cell_type": "code",
   "execution_count": 24,
   "metadata": {},
   "outputs": [
    {
     "name": "stdout",
     "output_type": "stream",
     "text": [
      "Naive-Bayes accuracy :  0.8166666666666667\n"
     ]
    }
   ],
   "source": [
    "train_model_11()"
   ]
  },
  {
   "cell_type": "code",
   "execution_count": 25,
   "metadata": {},
   "outputs": [],
   "source": [
    "def train_model_12():\n",
    "    data = d_workout[['age','weight','height','goal']]\n",
    "    target = d_workout['barbell curls']\n",
    "    data_train, data_test, target_train, target_test = train_test_split(data, target, test_size = 0.30, random_state=58)\n",
    "    from sklearn.naive_bayes import GaussianNB\n",
    "    from sklearn.metrics import accuracy_score\n",
    "    model = GaussianNB()\n",
    "    pred = model.fit(data_train, target_train).predict(data_test)\n",
    "    print(\"Naive-Bayes accuracy : \",accuracy_score(target_test, pred, normalize = True))\n",
    "    # save the model to disk\n",
    "    filename = 'finalized_model_12.sav'\n",
    "    pk.dump(model, open(filename, 'wb'))"
   ]
  },
  {
   "cell_type": "code",
   "execution_count": 26,
   "metadata": {},
   "outputs": [
    {
     "name": "stdout",
     "output_type": "stream",
     "text": [
      "Naive-Bayes accuracy :  0.6166666666666667\n"
     ]
    }
   ],
   "source": [
    "train_model_12()"
   ]
  },
  {
   "cell_type": "code",
   "execution_count": 27,
   "metadata": {},
   "outputs": [],
   "source": [
    "def train_model_13():\n",
    "    data = d_workout[['age','weight','height','goal']]\n",
    "    target = d_workout['hammer curls']\n",
    "    data_train, data_test, target_train, target_test = train_test_split(data, target, test_size = 0.30, random_state=61)\n",
    "    from sklearn.naive_bayes import GaussianNB\n",
    "    from sklearn.metrics import accuracy_score\n",
    "    model = GaussianNB()\n",
    "    pred = model.fit(data_train, target_train).predict(data_test)\n",
    "    print(\"Naive-Bayes accuracy : \",accuracy_score(target_test, pred, normalize = True))\n",
    "    # save the model to disk\n",
    "    filename = 'finalized_model_13.sav'\n",
    "    pk.dump(model, open(filename, 'wb'))"
   ]
  },
  {
   "cell_type": "code",
   "execution_count": 28,
   "metadata": {},
   "outputs": [
    {
     "name": "stdout",
     "output_type": "stream",
     "text": [
      "Naive-Bayes accuracy :  0.7166666666666667\n"
     ]
    }
   ],
   "source": [
    "train_model_13()"
   ]
  },
  {
   "cell_type": "code",
   "execution_count": 29,
   "metadata": {},
   "outputs": [],
   "source": [
    "def train_model_14():\n",
    "    data = d_workout[['age','weight','height','goal']]\n",
    "    target = d_workout['ez bar curls']\n",
    "    data_train, data_test, target_train, target_test = train_test_split(data, target, test_size = 0.30, random_state=25)\n",
    "    from sklearn.naive_bayes import GaussianNB\n",
    "    from sklearn.metrics import accuracy_score\n",
    "    model = GaussianNB()\n",
    "    pred = model.fit(data_train, target_train).predict(data_test)\n",
    "    print(\"Naive-Bayes accuracy : \",accuracy_score(target_test, pred, normalize = True))\n",
    "    # save the model to disk\n",
    "    filename = 'finalized_model_14.sav'\n",
    "    pk.dump(model, open(filename, 'wb'))"
   ]
  },
  {
   "cell_type": "code",
   "execution_count": 30,
   "metadata": {},
   "outputs": [
    {
     "name": "stdout",
     "output_type": "stream",
     "text": [
      "Naive-Bayes accuracy :  0.85\n"
     ]
    }
   ],
   "source": [
    "train_model_14()"
   ]
  },
  {
   "cell_type": "code",
   "execution_count": 31,
   "metadata": {},
   "outputs": [],
   "source": [
    "def train_model_15():\n",
    "    data = d_workout[['age','weight','height','goal']]\n",
    "    target = d_workout['preacher curls']\n",
    "    data_train, data_test, target_train, target_test = train_test_split(data, target, test_size = 0.30, random_state=2)\n",
    "    from sklearn.naive_bayes import GaussianNB\n",
    "    from sklearn.metrics import accuracy_score\n",
    "    model = GaussianNB()\n",
    "    pred = model.fit(data_train, target_train).predict(data_test)\n",
    "    print(\"Naive-Bayes accuracy : \",accuracy_score(target_test, pred, normalize = True))\n",
    "    # save the model to disk\n",
    "    filename = 'finalized_model_15.sav'\n",
    "    pk.dump(model, open(filename, 'wb'))"
   ]
  },
  {
   "cell_type": "code",
   "execution_count": 32,
   "metadata": {},
   "outputs": [
    {
     "name": "stdout",
     "output_type": "stream",
     "text": [
      "Naive-Bayes accuracy :  0.85\n"
     ]
    }
   ],
   "source": [
    "train_model_15()"
   ]
  },
  {
   "cell_type": "code",
   "execution_count": 33,
   "metadata": {},
   "outputs": [],
   "source": [
    "def train_model_16():\n",
    "    data = d_workout[['age','weight','height','goal']]\n",
    "    target = d_workout['tricep dips']\n",
    "    data_train, data_test, target_train, target_test = train_test_split(data, target, test_size = 0.30, random_state=2)\n",
    "    from sklearn.naive_bayes import GaussianNB\n",
    "    from sklearn.metrics import accuracy_score\n",
    "    model = GaussianNB()\n",
    "    pred = model.fit(data_train, target_train).predict(data_test)\n",
    "    print(\"Naive-Bayes accuracy : \",accuracy_score(target_test, pred, normalize = True))\n",
    "    # save the model to disk\n",
    "    filename = 'finalized_model_16.sav'\n",
    "    pk.dump(model, open(filename, 'wb'))"
   ]
  },
  {
   "cell_type": "code",
   "execution_count": 34,
   "metadata": {},
   "outputs": [
    {
     "name": "stdout",
     "output_type": "stream",
     "text": [
      "Naive-Bayes accuracy :  0.6833333333333333\n"
     ]
    }
   ],
   "source": [
    "train_model_16()"
   ]
  },
  {
   "cell_type": "code",
   "execution_count": 35,
   "metadata": {},
   "outputs": [],
   "source": [
    "def train_model_17():\n",
    "    data = d_workout[['age','weight','height','goal']]\n",
    "    target = d_workout['squat']\n",
    "    data_train, data_test, target_train, target_test = train_test_split(data, target, test_size = 0.30, random_state=49)\n",
    "    from sklearn.naive_bayes import GaussianNB\n",
    "    from sklearn.metrics import accuracy_score\n",
    "    model = GaussianNB()\n",
    "    pred = model.fit(data_train, target_train).predict(data_test)\n",
    "    print(\"Naive-Bayes accuracy : \",accuracy_score(target_test, pred, normalize = True))\n",
    "    # save the model to disk\n",
    "    filename = 'finalized_model_17.sav'\n",
    "    pk.dump(model, open(filename, 'wb'))"
   ]
  },
  {
   "cell_type": "code",
   "execution_count": 36,
   "metadata": {},
   "outputs": [
    {
     "name": "stdout",
     "output_type": "stream",
     "text": [
      "Naive-Bayes accuracy :  0.65\n"
     ]
    }
   ],
   "source": [
    "train_model_17()"
   ]
  },
  {
   "cell_type": "code",
   "execution_count": 37,
   "metadata": {},
   "outputs": [],
   "source": [
    "def train_model_18():\n",
    "    data = d_workout[['age','weight','height','goal']]\n",
    "    target = d_workout['leg press']\n",
    "    data_train, data_test, target_train, target_test = train_test_split(data, target, test_size = 0.30, random_state=1)\n",
    "    from sklearn.naive_bayes import GaussianNB\n",
    "    from sklearn.metrics import accuracy_score\n",
    "    model = GaussianNB()\n",
    "    pred = model.fit(data_train, target_train).predict(data_test)\n",
    "    print(\"Naive-Bayes accuracy : \",accuracy_score(target_test, pred, normalize = True))\n",
    "    # save the model to disk\n",
    "    filename = 'finalized_model_18.sav'\n",
    "    pk.dump(model, open(filename, 'wb'))"
   ]
  },
  {
   "cell_type": "code",
   "execution_count": 38,
   "metadata": {},
   "outputs": [
    {
     "name": "stdout",
     "output_type": "stream",
     "text": [
      "Naive-Bayes accuracy :  0.75\n"
     ]
    }
   ],
   "source": [
    "train_model_18()"
   ]
  },
  {
   "cell_type": "code",
   "execution_count": 39,
   "metadata": {},
   "outputs": [],
   "source": [
    "def train_model_19():\n",
    "    data = d_workout[['age','weight','height','goal']]\n",
    "    target = d_workout['dumbell lunges']\n",
    "    data_train, data_test, target_train, target_test = train_test_split(data, target, test_size = 0.30, random_state=61)\n",
    "    from sklearn.naive_bayes import GaussianNB\n",
    "    from sklearn.metrics import accuracy_score\n",
    "    model = GaussianNB()\n",
    "    pred = model.fit(data_train, target_train).predict(data_test)\n",
    "    print(\"Naive-Bayes accuracy : \",accuracy_score(target_test, pred, normalize = True))\n",
    "    # save the model to disk\n",
    "    filename = 'finalized_model_19.sav'\n",
    "    pk.dump(model, open(filename, 'wb'))"
   ]
  },
  {
   "cell_type": "code",
   "execution_count": 40,
   "metadata": {},
   "outputs": [
    {
     "name": "stdout",
     "output_type": "stream",
     "text": [
      "Naive-Bayes accuracy :  0.7166666666666667\n"
     ]
    }
   ],
   "source": [
    "train_model_19()"
   ]
  },
  {
   "cell_type": "code",
   "execution_count": 41,
   "metadata": {},
   "outputs": [],
   "source": [
    "def train_model_20():\n",
    "    data = d_workout[['age','weight','height','goal']]\n",
    "    target = d_workout['lying leg curl']\n",
    "    data_train, data_test, target_train, target_test = train_test_split(data, target, test_size = 0.30, random_state=69)\n",
    "    from sklearn.naive_bayes import GaussianNB\n",
    "    from sklearn.metrics import accuracy_score\n",
    "    model = GaussianNB()\n",
    "    pred = model.fit(data_train, target_train).predict(data_test)\n",
    "    print(\"Naive-Bayes accuracy : \",accuracy_score(target_test, pred, normalize = True))\n",
    "    # save the model to disk\n",
    "    filename = 'finalized_model_20.sav'\n",
    "    pk.dump(model, open(filename, 'wb'))"
   ]
  },
  {
   "cell_type": "code",
   "execution_count": 42,
   "metadata": {},
   "outputs": [
    {
     "name": "stdout",
     "output_type": "stream",
     "text": [
      "Naive-Bayes accuracy :  0.8\n"
     ]
    }
   ],
   "source": [
    "train_model_20()"
   ]
  },
  {
   "cell_type": "code",
   "execution_count": 43,
   "metadata": {},
   "outputs": [],
   "source": [
    "def train_model_21():\n",
    "    data = d_workout[['age','weight','height','goal']]\n",
    "    target = d_workout['front barbell press']\n",
    "    data_train, data_test, target_train, target_test = train_test_split(data, target, test_size = 0.30, random_state=11)\n",
    "    from sklearn.naive_bayes import GaussianNB\n",
    "    from sklearn.metrics import accuracy_score\n",
    "    model = GaussianNB()\n",
    "    pred = model.fit(data_train, target_train).predict(data_test)\n",
    "    print(\"Naive-Bayes accuracy : \",accuracy_score(target_test, pred, normalize = True))\n",
    "    # save the model to disk\n",
    "    filename = 'finalized_model_21.sav'\n",
    "    pk.dump(model, open(filename, 'wb'))"
   ]
  },
  {
   "cell_type": "code",
   "execution_count": 44,
   "metadata": {},
   "outputs": [
    {
     "name": "stdout",
     "output_type": "stream",
     "text": [
      "Naive-Bayes accuracy :  0.5833333333333334\n"
     ]
    }
   ],
   "source": [
    "train_model_21()"
   ]
  },
  {
   "cell_type": "code",
   "execution_count": 7,
   "metadata": {},
   "outputs": [],
   "source": [
    "def train_model_22():\n",
    "    data = d_workout[['age','weight','height','goal']]\n",
    "    target = d_workout['deadlift']\n",
    "    data_train, data_test, target_train, target_test = train_test_split(data, target, test_size = 0.30, random_state=15)\n",
    "    from sklearn.naive_bayes import GaussianNB\n",
    "    from sklearn.metrics import accuracy_score\n",
    "    model = GaussianNB()\n",
    "    pred = model.fit(data_train, target_train).predict(data_test)\n",
    "    print(\"Naive-Bayes accuracy : \",accuracy_score(target_test, pred, normalize = True))\n",
    "    # save the model to disk\n",
    "    filename = 'finalized_model_22.sav'\n",
    "    pk.dump(model, open(filename, 'wb'))"
   ]
  },
  {
   "cell_type": "code",
   "execution_count": 8,
   "metadata": {},
   "outputs": [
    {
     "name": "stdout",
     "output_type": "stream",
     "text": [
      "Naive-Bayes accuracy :  0.6666666666666666\n"
     ]
    }
   ],
   "source": [
    "train_model_22()"
   ]
  },
  {
   "cell_type": "code",
   "execution_count": 9,
   "metadata": {},
   "outputs": [],
   "source": [
    "def train_model_23():\n",
    "    data = d_workout[['age','weight','height','goal']]\n",
    "    target = d_workout['double hand overhead dumbell press']\n",
    "    data_train, data_test, target_train, target_test = train_test_split(data, target, test_size = 0.30, random_state=34)\n",
    "    from sklearn.naive_bayes import GaussianNB\n",
    "    from sklearn.metrics import accuracy_score\n",
    "    model = GaussianNB()\n",
    "    pred = model.fit(data_train, target_train).predict(data_test)\n",
    "    print(\"Naive-Bayes accuracy : \",accuracy_score(target_test, pred, normalize = True))\n",
    "    # save the model to disk\n",
    "    filename = 'finalized_model_23.sav'\n",
    "    pk.dump(model, open(filename, 'wb'))"
   ]
  },
  {
   "cell_type": "code",
   "execution_count": 10,
   "metadata": {},
   "outputs": [
    {
     "name": "stdout",
     "output_type": "stream",
     "text": [
      "Naive-Bayes accuracy :  0.6833333333333333\n"
     ]
    }
   ],
   "source": [
    "train_model_23()"
   ]
  },
  {
   "cell_type": "code",
   "execution_count": 13,
   "metadata": {},
   "outputs": [],
   "source": [
    "def train_model_24():\n",
    "    data = d_workout[['age','weight','height','goal']]\n",
    "    target = d_workout['skullcrusher']\n",
    "    data_train, data_test, target_train, target_test = train_test_split(data, target, test_size = 0.30, random_state=68)\n",
    "    from sklearn.naive_bayes import GaussianNB\n",
    "    from sklearn.metrics import accuracy_score\n",
    "    model = GaussianNB()\n",
    "    pred = model.fit(data_train, target_train).predict(data_test)\n",
    "    print(\"Naive-Bayes accuracy : \",accuracy_score(target_test, pred, normalize = True))\n",
    "    # save the model to disk\n",
    "    filename = 'finalized_model_24.sav'\n",
    "    pk.dump(model, open(filename, 'wb'))"
   ]
  },
  {
   "cell_type": "code",
   "execution_count": 14,
   "metadata": {},
   "outputs": [
    {
     "name": "stdout",
     "output_type": "stream",
     "text": [
      "Naive-Bayes accuracy :  0.7833333333333333\n"
     ]
    }
   ],
   "source": [
    "train_model_24()"
   ]
  },
  {
   "cell_type": "code",
   "execution_count": 11,
   "metadata": {},
   "outputs": [],
   "source": [
    "def test_model():\n",
    "    data = d_workout[['age','weight','height','goal']]\n",
    "    target = d_workout['skullcrusher']\n",
    "    a = []\n",
    "    for i in range(0,100):\n",
    "        data_train, data_test, target_train, target_test = train_test_split(data, target, test_size = 0.30, random_state=i)\n",
    "        from sklearn.naive_bayes import GaussianNB\n",
    "        from sklearn.metrics import accuracy_score\n",
    "        model = GaussianNB()\n",
    "        pred = model.fit(data_train, target_train).predict(data_test)\n",
    "        a.append(accuracy_score(target_test, pred, normalize = True))\n",
    "    print(a.index(max(a)))    "
   ]
  },
  {
   "cell_type": "code",
   "execution_count": 12,
   "metadata": {},
   "outputs": [
    {
     "name": "stdout",
     "output_type": "stream",
     "text": [
      "68\n"
     ]
    }
   ],
   "source": [
    "test_model()"
   ]
  },
  {
   "cell_type": "code",
   "execution_count": null,
   "metadata": {},
   "outputs": [],
   "source": []
  }
 ],
 "metadata": {
  "kernelspec": {
   "display_name": "Python 3",
   "language": "python",
   "name": "python3"
  },
  "language_info": {
   "codemirror_mode": {
    "name": "ipython",
    "version": 3
   },
   "file_extension": ".py",
   "mimetype": "text/x-python",
   "name": "python",
   "nbconvert_exporter": "python",
   "pygments_lexer": "ipython3",
   "version": "3.7.4"
  }
 },
 "nbformat": 4,
 "nbformat_minor": 2
}
